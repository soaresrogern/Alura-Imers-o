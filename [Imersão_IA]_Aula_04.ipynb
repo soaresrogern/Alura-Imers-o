{
  "nbformat": 4,
  "nbformat_minor": 0,
  "metadata": {
    "colab": {
      "provenance": [],
      "authorship_tag": "ABX9TyMN+VhdxG2zYE2hRM3J0kYV",
      "include_colab_link": true
    },
    "kernelspec": {
      "name": "python3",
      "display_name": "Python 3"
    },
    "language_info": {
      "name": "python"
    }
  },
  "cells": [
    {
      "cell_type": "markdown",
      "metadata": {
        "id": "view-in-github",
        "colab_type": "text"
      },
      "source": [
        "<a href=\"https://colab.research.google.com/github/soaresrogern/Alura-Imers-o/blob/main/%5BImers%C3%A3o_IA%5D_Aula_04.ipynb\" target=\"_parent\"><img src=\"https://colab.research.google.com/assets/colab-badge.svg\" alt=\"Open In Colab\"/></a>"
      ]
    },
    {
      "cell_type": "code",
      "execution_count": 1,
      "metadata": {
        "colab": {
          "base_uri": "https://localhost:8080/"
        },
        "id": "rKsMsixYSAg1",
        "outputId": "daad6a81-35df-4d18-c15c-4b09a9974bb2"
      },
      "outputs": [
        {
          "output_type": "stream",
          "name": "stdout",
          "text": [
            "\n",
            "Usage:   \n",
            "  pip3 install [options] <requirement specifier> [package-index-options] ...\n",
            "  pip3 install [options] -r <requirements file> [package-index-options] ...\n",
            "  pip3 install [options] [-e] <vcs project url> ...\n",
            "  pip3 install [options] [-e] <local project path> ...\n",
            "  pip3 install [options] <archive url/path> ...\n",
            "\n",
            "no such option: -g\n"
          ]
        }
      ],
      "source": [
        "pip install -q -U google -generativeai\n"
      ]
    },
    {
      "cell_type": "code",
      "source": [
        "import google.generativeai as genai\n",
        "from google.colab import userdata\n",
        "api_key = userdata.get ('secret_key')\n",
        "genai.configure(api_key=api_key)"
      ],
      "metadata": {
        "id": "0xD9_k2mTbwi"
      },
      "execution_count": null,
      "outputs": []
    },
    {
      "cell_type": "code",
      "source": [
        "model = genai.GenerativeModel('gemini.pro')"
      ],
      "metadata": {
        "id": "VPG-URNJUk4e"
      },
      "execution_count": 3,
      "outputs": []
    },
    {
      "cell_type": "code",
      "source": [
        "for m in genai.list_models():\n",
        "  if 'generateContent' in m.supported_generation_methods:\n",
        "    print(m.name)"
      ],
      "metadata": {
        "colab": {
          "base_uri": "https://localhost:8080/",
          "height": 138
        },
        "id": "_8g2Sp81aNJj",
        "outputId": "755012a6-e4e5-428d-a04d-17c5d3149663"
      },
      "execution_count": 4,
      "outputs": [
        {
          "output_type": "stream",
          "name": "stdout",
          "text": [
            "models/gemini-1.0-pro\n",
            "models/gemini-1.0-pro-001\n",
            "models/gemini-1.0-pro-latest\n",
            "models/gemini-1.0-pro-vision-latest\n",
            "models/gemini-1.5-pro-latest\n",
            "models/gemini-pro\n",
            "models/gemini-pro-vision\n"
          ]
        }
      ]
    },
    {
      "cell_type": "code",
      "source": [
        "generation_config = {\n",
        "  \"candidate_count\": 1,\n",
        "  \"temperature\": 0.5,\n",
        "}"
      ],
      "metadata": {
        "id": "IHZt1aPTaQMo"
      },
      "execution_count": 5,
      "outputs": []
    },
    {
      "cell_type": "code",
      "source": [
        "safety_settings={\n",
        "    'HATE': 'BLOCK_NONE',\n",
        "    'HARASSMENT': 'BLOCK_NONE',\n",
        "    'SEXUAL' : 'BLOCK_NONE',\n",
        "    'DANGEROUS' : 'BLOCK_NONE'\n",
        "    }"
      ],
      "metadata": {
        "id": "XyiI3j_VaYUS"
      },
      "execution_count": 6,
      "outputs": []
    },
    {
      "cell_type": "code",
      "source": [
        "model = genai.GenerativeModel(model_name='gemini-1.0-pro',\n",
        "                                  generation_config=generation_config,\n",
        "                                  safety_settings=safety_settings,)"
      ],
      "metadata": {
        "id": "9fwqvj_8abL3"
      },
      "execution_count": 7,
      "outputs": []
    },
    {
      "cell_type": "code",
      "source": [
        "response = model.generate_content(\"Escreva uma historia sobre o Tour de France.\")\n",
        "print(response.text)"
      ],
      "metadata": {
        "colab": {
          "base_uri": "https://localhost:8080/",
          "height": 297
        },
        "id": "BG9YxMHCXcc1",
        "outputId": "b03640dd-2d65-4418-f3d9-3f6b05fcb5cb"
      },
      "execution_count": 8,
      "outputs": [
        {
          "output_type": "stream",
          "name": "stdout",
          "text": [
            "Sob o sol escaldante de julho, os ciclistas do Tour de France se alinharam no Grand Départ, seus músculos tensos e seus corações cheios de determinação. O ar crepitava de antecipação enquanto a bandeira quadriculada caía, sinalizando o início da corrida mais exigente do mundo.\n",
            "\n",
            "Entre os competidores estava Antoine Dubois, um jovem francês que sonhava em conquistar a camisa amarela. Com pernas fortes e um espírito indomável, ele se lançou na estrada, determinado a desafiar os melhores do mundo.\n",
            "\n",
            "O percurso era implacável, serpenteando por montanhas imponentes, vales verdejantes e vilas pitorescas. Cada etapa testava os limites dos ciclistas, exigindo resistência, velocidade e estratégia. Antoine lutou bravamente, subindo encostas íngremes e descendo declives perigosos com habilidade consumada.\n",
            "\n",
            "À medida que a corrida avançava, Antoine começou a se destacar. Ele ganhou uma etapa de montanha, conquistando a admiração dos fãs e o respeito de seus rivais. A camisa amarela parecia cada vez mais próxima, mas o caminho ainda era longo e cheio de perigos.\n",
            "\n",
            "No entanto, o destino tinha outros planos. Em uma descida traiçoeira, Antoine caiu, ferindo gravemente a perna. Sua jornada parecia ter acabado ali mesmo. Mas com determinação inabalável, ele se recusou a desistir.\n",
            "\n",
            "Antoine voltou para a corrida, pedalando com uma perna só. O público ficou maravilhado com sua coragem e o apoiou a cada passo do caminho. Ele não seria capaz de vencer, mas estava decidido a terminar a corrida, não importa o custo.\n",
            "\n",
            "Dia após dia, Antoine pedalou incansavelmente, superando a dor e a adversidade. Ele se tornou um símbolo de resiliência e espírito esportivo. E quando ele finalmente cruzou a linha de chegada em Paris, a multidão explodiu em aplausos.\n",
            "\n",
            "Antoine Dubois não ganhou o Tour de France, mas conquistou algo muito mais valioso: o respeito e a admiração do mundo. Sua jornada inspirou inúmeros outros a nunca desistir de seus sonhos, não importa os desafios que possam enfrentar. E assim, a lenda de Antoine Dubois, o ciclista que pedalou com uma perna só, foi passada de geração em geração, um testemunho do poder do espírito humano.\n"
          ]
        }
      ]
    },
    {
      "cell_type": "code",
      "source": [
        "chat = model.start_chat(history=[])\n",
        "\n",
        "prompt = input('O prompt vem aí: ')\n",
        "\n",
        "while prompt != \"fim\":\n",
        "  response = chat.send_message(prompt)\n",
        "  print(\"Resposta:\", response.text, '\\n\\n')\n",
        "  prompt = input('Esperando prompt: ')"
      ],
      "metadata": {
        "colab": {
          "base_uri": "https://localhost:8080/",
          "height": 125
        },
        "id": "br0ns6rrZTCY",
        "outputId": "befabd2b-2b6f-49f0-9464-5ef6995c7ef6"
      },
      "execution_count": null,
      "outputs": [
        {
          "output_type": "stream",
          "name": "stdout",
          "text": [
            "O prompt vem aí: qual a temperatura ?\n",
            "Resposta: Não tenho acesso a informações em tempo real, portanto não posso fornecer a temperatura atual. Recomendo verificar um aplicativo de previsão do tempo ou um site confiável para obter as informações mais atualizadas. \n",
            "\n",
            "\n"
          ]
        }
      ]
    },
    {
      "cell_type": "code",
      "source": [
        "[]chat"
      ],
      "metadata": {
        "id": "CMCPAgLmbRPM"
      },
      "execution_count": null,
      "outputs": []
    },
    {
      "cell_type": "code",
      "source": [
        "#Upgrade Visual\n",
        "import textwrap\n",
        "from IPython.display import display\n",
        "from IPython.display import Markdown\n",
        "\n",
        "def to_markdown(text):\n",
        "  text = text.replace('•', '  *')\n",
        "  return Markdown(textwrap.indent(text, '> ', predicate=lambda _: True))\n",
        "\n",
        "#Print historic\n",
        "for message in chat.history:\n",
        "  display(to_markdown(f'**{message.role}**: {message.parts[0].text}'))\n",
        "  print('-------------------------------------------')"
      ],
      "metadata": {
        "id": "EetKwBe1bXig"
      },
      "execution_count": null,
      "outputs": []
    }
  ]
}